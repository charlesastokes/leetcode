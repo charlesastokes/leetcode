{
 "cells": [
  {
   "cell_type": "markdown",
   "metadata": {},
   "source": [
    "# Leet Code Easy Problem in a Java Notebook\n",
    "\n",
    "While practicing leetcode I thought it would be fun to try using a Java Kernel for notebooks. The purpose is to use the REPL style environment notebooks offer (executing code line by line) combined with Markdown cells, to better communicate my thoughts and solutions. I felt visually this is a better way to share leetcode solutions than `.java` files with a large amount of text. \n",
    "\n",
    "Additionally, I explore some options to embed JUnits in a notebook, although as you can see below I find that JUnits in their typical format, for example test suites, aren't really philosophically in alignment with visual notebooks and REPL environments, although more work could be done to make the solution more seamless.\n",
    "\n",
    "I found that unsurprisingly Java Kernels aren't well supported. The Jupyter project links out to a few. None that I could find have a large open source community behind them, and many haven't been updated in years. The most recently updated project, which I decided to experiment with after reading through the code is the Rapaio Kernel.\n",
    "\n",
    "https://github.com/jupyter/jupyter/wiki/Jupyter-kernels\n",
    "\n",
    " https://github.com/padreati/rapaio-jupyter-kernel"
   ]
  },
  {
   "cell_type": "markdown",
   "metadata": {},
   "source": [
    "# Easy Leetcode Problem Description: Container With Most Water\n",
    "\n",
    "You are given an integer array height of length `n`. There are n vertical lines drawn such that the two endpoints of the ith line are `(i, 0)` and `(i, height[i])`.\n",
    "\n",
    "Find two lines that together with the x-axis form a container, such that the container contains the most water.\n",
    "\n",
    "Return the maximum amount of water a container can store.\n",
    "\n",
    "Notice that you may not slant the container.\n",
    "\n",
    "## Example 1:\n",
    "\n",
    "![image](leetcode-area-calc.png)\n",
    "\n",
    "```\n",
    "Input: height = [1,8,6,2,5,4,8,3,7]\n",
    "Output: 49\n",
    "Explanation: The above vertical lines are represented by array [1,8,6,2,5,4,8,3,7]. In this case, the max area of water (blue section) the container can contain is 49.\n",
    "```\n",
    "\n",
    "## Example 2:\n",
    "\n",
    "```\n",
    "Input: height = [1,1]\n",
    "Output: 1\n",
    "```\n",
    " \n",
    "```\n",
    "Constraints:\n",
    "\n",
    "    n == height.length\n",
    "    2 <= n <= 105\n",
    "    0 <= height[i] <= 104\n",
    "```\n"
   ]
  },
  {
   "cell_type": "markdown",
   "metadata": {},
   "source": [
    "## Naive Solution\n",
    "\n",
    "The initial naive solution involves a quadratic runtime comparison of all possible heights.\n",
    "\n",
    "While a double nested for loop at first glance seemed like a simple way to implement the problem, it misses out on an important optimization. Some heights can be ignored in the second loop, since we are trying to maximize the area. This can't be solved by first sorting the heights, since the width is determined based on the distance between relative placement of the heights in the array. While there may be some very advanced techniques to do this sort of sorting, it wouldn't be feasible for a leetcode assignment where time is of the essence, and it likely wouldn't be as memory or compute efficient ultimately. This is where the **two pointer** method shines. \n"
   ]
  },
  {
   "cell_type": "code",
   "execution_count": 1,
   "metadata": {},
   "outputs": [],
   "source": [
    "class Solution {\n",
    "    private static int calcArea(int firstIndex, int secondIndex, int[] heights) {\n",
    "        int distanceX = secondIndex - firstIndex;\n",
    "        int distanceY = Math.min(heights[firstIndex], heights[secondIndex]);\n",
    "        return distanceX * distanceY;\n",
    "    }\n",
    "\n",
    "    public static int maxArea(int[] height) {\n",
    "        int maxArea = 0;\n",
    "\n",
    "        for(int i=0; i< height.length; i++) {\n",
    "            for(int k=i+1; k< height.length; k++)\n",
    "                maxArea = Math.max(calcArea(i, k, height), maxArea);\n",
    "        }\n",
    "        \n",
    "        return maxArea;\n",
    "    }\n",
    "}"
   ]
  },
  {
   "cell_type": "markdown",
   "metadata": {},
   "source": [
    "# Improved Leet Code Solution\n",
    "\n",
    "The problem with the above implementation is that it iterates through all possible heights, which is O(N^2) runtime. \n",
    "\n",
    "Below is an implementation using the \"two pointer\" solution, which advances two pointers towards the middle resulting in a O(N) solution, much improved from the quadratic loop implemented above.\n",
    "\n",
    "This solution also takes advantage of the fact that the the area with respect to the heights are bound by the shortest of the two, meaning, if two heights are used to calculate a potential area, the shortest height can be disregarded in search of a taller height, instead of the N^2 comparison of all heights to all heights. "
   ]
  },
  {
   "cell_type": "code",
   "execution_count": 2,
   "metadata": {},
   "outputs": [],
   "source": [
    "class TwoPointerSolution {\n",
    "    private static int calcArea(int firstIndex, int secondIndex, int[] heights) {\n",
    "        int distanceX = secondIndex - firstIndex;\n",
    "        int distanceY = Math.min(heights[firstIndex], heights[secondIndex]);\n",
    "        return distanceX * distanceY;\n",
    "    }\n",
    "\n",
    "    public static int maxArea(int[] height) {\n",
    "        int maxArea = 0, leftPointer = 0, rightPointer = height.length-1;\n",
    "\n",
    "        while(leftPointer < height.length && rightPointer >= 0) {\n",
    "            maxArea = Math.max(calcArea(leftPointer, rightPointer, height), maxArea);\n",
    "\n",
    "            if(height[leftPointer] > height[rightPointer]) {\n",
    "                rightPointer--;\n",
    "            } else {\n",
    "                leftPointer++;\n",
    "            }\n",
    "        }\n",
    "\n",
    "        return maxArea;\n",
    "    }\n",
    "}"
   ]
  },
  {
   "cell_type": "markdown",
   "metadata": {},
   "source": [
    "## Some Example Test Cases\n",
    "\n",
    "### See Rapaio Java Kernel Magic Commands"
   ]
  },
  {
   "cell_type": "code",
   "execution_count": 3,
   "metadata": {},
   "outputs": [
    {
     "data": {
      "text/plain": [
       "\u001b[0m\u001b[1m\u001b[34mInformation about registered magic handlers.\n",
       "\u001b[0m\u001b[0m\n",
       "\u001b[0m\u001b[1m\u001b[34mJShell commands\u001b[0m\u001b[0m\n",
       "\u001b[0m\u001b[1mDocumentation:\n",
       "\u001b[0m    Magic handler which runs command against JShell REPL and displays the results.\n",
       "    Not all JShell commands are implemented, since some of them does not make sense with notebooks (for example edit cell is handled simply by editing the corresponding code cell and run).\n",
       "\u001b[0m\u001b[1mSyntax:\n",
       "\u001b[0m    \u001b[0m\u001b[1m\u001b[32m%jshell /methods\u001b[0m\n",
       "    List all active methods.\n",
       "    \u001b[0m\u001b[1m\u001b[32m%jshell /vars\u001b[0m\n",
       "    List all active variables, with type and value.\n",
       "    \u001b[0m\u001b[1m\u001b[32m%jshell /imports\u001b[0m\n",
       "    List all active import statements.\n",
       "    \u001b[0m\u001b[1m\u001b[32m%jshell /types\u001b[0m\n",
       "    List all active types: classes, interfaces, enums and annotations.\n",
       "    \u001b[0m\u001b[1m\u001b[32m%jshell /list -all\u001b[0m\n",
       "    List all code snippets, either active, inactive or erroneous.\n",
       "    \u001b[0m\u001b[1m\u001b[32m%jshell /list [id]\u001b[0m\n",
       "    List snippet with the given id.\n",
       "    \u001b[0m\u001b[1m\u001b[32m%jshell /list\u001b[0m\n",
       "    List all active code snippets.\n",
       "\n",
       "\u001b[0m\u001b[1m\u001b[34mDependency manager\u001b[0m\u001b[0m\n",
       "\u001b[0m\u001b[1mDocumentation:\n",
       "\u001b[0m    Find and resolve a dependency using coordinates: group_id, artifact_id and version id.\n",
       "    The maven public repositories are searched for dependencies. Additionally, any maven transitive dependency declared with magic handlers are included in classpath.\n",
       "\u001b[0m\u001b[1mSyntax:\n",
       "\u001b[0m    \u001b[0m\u001b[1m\u001b[32m%dependency /list-repos\u001b[0m\n",
       "    List all repositories\n",
       "    \u001b[0m\u001b[1m\u001b[32m%dependency /add-repo name url\u001b[0m\n",
       "    Add Maven Repository using a name and an url\n",
       "    \u001b[0m\u001b[1m\u001b[32m%dependency /list-configuration\u001b[0m\n",
       "    List all the dependency configurations\n",
       "    \u001b[0m\u001b[1m\u001b[32m%dependency /list-artifacts\u001b[0m\n",
       "    List artifacts loaded after the last dependency resolve\n",
       "    \u001b[0m\u001b[1m\u001b[32m%dependency /conflict-manager all|latest-time|latest-revision(default)|latest-compatible|strict\u001b[0m\n",
       "    Configures a conflict manager. A conflict manager describes how conflicts are resolved.\n",
       "all: resolve conflicts by selecting all revisions, it doesn’t evict any modules.\n",
       "latest-time: selects only the latest in time revision.\n",
       "latest-revision: selects only the latest revision.\n",
       "latest-compatible: selects the latest version in the conflicts which can result in a compatible set of dependencies. This conflict manager does not allow any conflicts (similar to the strict conflict manager), except that it follows a best effort strategy to try to find a set of compatible modules (according to the version constraints)\n",
       "strict: throws an exception (i.e. causes a build failure) whenever a conflict is found. It does not take into consideration overrides. (default value)\n",
       "    \u001b[0m\u001b[1m\u001b[32m%dependency /resolve\u001b[0m\n",
       "    Resolve dependencies\n",
       "    \u001b[0m\u001b[1m\u001b[32m%dependency /add group_id:artifact_id:version\u001b[0m\n",
       "    \u001b[0m\u001b[1m\u001b[32m%dependency /add group_id:artifact_id:version --force\u001b[0m\n",
       "    Declares a direct dependency to dependency manager.\n",
       "Flag /force can be used in order to force version overrides.\n",
       "This command does not resolve dependencies. \n",
       "    \u001b[0m\u001b[1m\u001b[32m%dependency /override group_id:artifact_id:version\u001b[0m\n",
       "    Declares an override, dependencies matched by group_id and artifact_id will be replaced with this override.\n",
       "A more flexible way to solve conflicts, even if a conflict actually does not exist.\n",
       "It cannot be used to override forced direct dependencies.\n",
       "\n",
       "\u001b[0m\u001b[1m\u001b[34mJar magic handler\u001b[0m\u001b[0m\n",
       "\u001b[0m\u001b[1mDocumentation:\n",
       "\u001b[0m    Jar magic handler allows adding to the current classpath a local jar file or all the jar files from a given directory.\n",
       "\u001b[0m\u001b[1mSyntax:\n",
       "\u001b[0m    \u001b[0m\u001b[1m\u001b[32m%jar path_to_jar_or_folder_of_jars\u001b[0m\n",
       "    Adds to the classpath a jar or all jar archives from a directory\n",
       "    \u001b[0m\u001b[1m\u001b[32m%%jars\u001b[0m\n",
       "    \u001b[0m\u001b[1m\u001b[32mjar_file_or_folder_1\u001b[0m\n",
       "    \u001b[0m\u001b[1m\u001b[32m[jar_file_or_folder_2]\u001b[0m\n",
       "    \u001b[0m\u001b[1m\u001b[32m...\u001b[0m\n",
       "    \u001b[0m\u001b[1m\u001b[32m[jar_file_or_folder_n]\u001b[0m\n",
       "    Adds to classpath all referenced jars or all jar files from referenced directories.\n",
       "\n",
       "\u001b[0m\u001b[1m\u001b[34mLoad\u001b[0m\u001b[0m\n",
       "\u001b[0m\u001b[1mDocumentation:\n",
       "\u001b[0m    Loads and executes a local jshell script file or a jupyter notebook for java language.\n",
       "\u001b[0m\u001b[1mSyntax:\n",
       "\u001b[0m    \u001b[0m\u001b[1m\u001b[32m%load path_to_script_or_notebook\u001b[0m\n",
       "    \n",
       "\n",
       "\u001b[0m\u001b[1m\u001b[34mImage\u001b[0m\u001b[0m\n",
       "\u001b[0m\u001b[1mDocumentation:\n",
       "\u001b[0m    Displays an image from a file or URL.\n",
       "\u001b[0m\u001b[1mSyntax:\n",
       "\u001b[0m    \u001b[0m\u001b[1m\u001b[32m%image path_to_file_or_url\u001b[0m\n",
       "    Display an image from a local file or from an URL\n",
       "\n",
       "\u001b[0m\u001b[1m\u001b[34mClasspath\u001b[0m\u001b[0m\n",
       "\u001b[0m\u001b[1mDocumentation:\n",
       "\u001b[0m    Magic handler which allows one to add to classpath directories with compiled code.\n",
       "\u001b[0m\u001b[1mSyntax:\n",
       "\u001b[0m    \u001b[0m\u001b[1m\u001b[32m%classpath path_to_folder_with_classes\u001b[0m\n",
       "    Adds to classpath folder which contains class files\n",
       "\n",
       "\u001b[0m\u001b[1m\u001b[34mBash\u001b[0m\u001b[0m\n",
       "\u001b[0m\u001b[1mDocumentation:\n",
       "\u001b[0m    Executes command line in a bash shell.\n",
       "\u001b[0m\u001b[1mSyntax:\n",
       "\u001b[0m    \u001b[0m\u001b[1m\u001b[32m%%bash\u001b[0m\n",
       "    \u001b[0m\u001b[1m\u001b[32mbash script\u001b[0m\n",
       "    Executes the following lines in a terminal.\n",
       "\n",
       "\u001b[0m\u001b[1m\u001b[34mHelp\u001b[0m\u001b[0m\n",
       "\u001b[0m\u001b[1mDocumentation:\n",
       "\u001b[0m    Magic which displays help for all the magic tools.\n",
       "\u001b[0m\u001b[1mSyntax:\n",
       "\u001b[0m    \u001b[0m\u001b[1m\u001b[32m%help\u001b[0m\n",
       "    Display help for all magic handlers.\n"
      ]
     },
     "execution_count": 3,
     "metadata": {},
     "output_type": "execute_result"
    }
   ],
   "source": [
    "%help"
   ]
  },
  {
   "cell_type": "code",
   "execution_count": 4,
   "metadata": {},
   "outputs": [
    {
     "name": "stdout",
     "output_type": "stream",
     "text": [
      "Repositories count: 4\n",
      "\u001b[0mname: \u001b[1m\u001b[32mcentral, \u001b[0murl: \u001b[1m\u001b[32mhttps://repo.maven.apache.org/maven2/\n",
      "\u001b[0m\u001b[0mname: \u001b[1m\u001b[32mjcenter, \u001b[0murl: \u001b[1m\u001b[32mhttps://jcenter.bintray.com/\n",
      "\u001b[0m\u001b[0mname: \u001b[1m\u001b[32mjboss, \u001b[0murl: \u001b[1m\u001b[32mhttps://repository.jboss.org/nexus/content/repositories/releases/\n",
      "\u001b[0m\u001b[0mname: \u001b[1m\u001b[32matlassian, \u001b[0murl: \u001b[1m\u001b[32mhttps://packages.atlassian.com/maven/public/\n",
      "\u001b[0m"
     ]
    }
   ],
   "source": [
    "%dependency /list-repos"
   ]
  },
  {
   "cell_type": "markdown",
   "metadata": {},
   "source": [
    "### Install Junit\n",
    "\n",
    "Simplest possible install using the Aggregator Project, adding the junit-platform-testkit for the runner implementation below. Adding a dependency via the magic command below is similar in a sense to adding it to a pom file. "
   ]
  },
  {
   "cell_type": "code",
   "execution_count": 5,
   "metadata": {},
   "outputs": [
    {
     "name": "stdout",
     "output_type": "stream",
     "text": [
      "Adding dependency \u001b[0m\u001b[1m\u001b[32morg.junit.jupiter:junit-jupiter:5.10.2\u001b[0m\u001b[0m\n",
      "Adding dependency \u001b[0m\u001b[1m\u001b[32morg.junit.platform:junit-platform-testkit:1.10.2\u001b[0m\u001b[0m\n"
     ]
    }
   ],
   "source": [
    "%dependency /add org.junit.jupiter:junit-jupiter:5.10.2\n",
    "%dependency /add org.junit.platform:junit-platform-testkit:1.10.2"
   ]
  },
  {
   "cell_type": "markdown",
   "metadata": {},
   "source": [
    "### Install Dependencies\n",
    "\n",
    "Using the dependency resolve is similar to running `mvn install`"
   ]
  },
  {
   "cell_type": "code",
   "execution_count": null,
   "metadata": {},
   "outputs": [],
   "source": [
    "%dependency /resolve"
   ]
  },
  {
   "cell_type": "markdown",
   "metadata": {},
   "source": [
    "## Junit the REPL Way\n",
    "\n",
    "Before seeing what it takes to write full traditional JUnit Classes with a JUnit Runner, try writing a REPL friendly single assert statement"
   ]
  },
  {
   "cell_type": "code",
   "execution_count": 8,
   "metadata": {},
   "outputs": [],
   "source": [
    "import static org.junit.jupiter.api.Assertions.assertEquals;\n",
    "\n",
    "int [] heights = {1,1};\n",
    "assertEquals(1, Solution.maxArea(heights));"
   ]
  },
  {
   "cell_type": "markdown",
   "metadata": {},
   "source": [
    "### Show a Failing Test\n",
    "\n",
    "OK, no output for a passing test isn't all that interesting, what does it look like in a notebook when it fails?"
   ]
  },
  {
   "cell_type": "code",
   "execution_count": 9,
   "metadata": {},
   "outputs": [
    {
     "ename": "EvalException",
     "evalue": "expected: <100> but was: <1>",
     "output_type": "error",
     "traceback": [
      "\u001b[0m\u001b[1m\u001b[31morg.opentest4j.AssertionFailedError: expected: <100> but was: <1>\n\u001b[0m",
      "\u001b[0m\u001b[1m\u001b[34m   at org.junit.jupiter.api.AssertionFailureBuilder.build(AssertionFailureBuilder.java:151)\u001b[0m",
      "\u001b[0m\u001b[1m\u001b[34m   at org.junit.jupiter.api.AssertionFailureBuilder.buildAndThrow(AssertionFailureBuilder.java:132)\u001b[0m",
      "\u001b[0m\u001b[1m\u001b[34m   at org.junit.jupiter.api.AssertEquals.failNotEqual(AssertEquals.java:197)\u001b[0m",
      "\u001b[0m\u001b[1m\u001b[34m   at org.junit.jupiter.api.AssertEquals.assertEquals(AssertEquals.java:150)\u001b[0m",
      "\u001b[0m\u001b[1m\u001b[34m   at org.junit.jupiter.api.AssertEquals.assertEquals(AssertEquals.java:145)\u001b[0m",
      "\u001b[0m\u001b[1m\u001b[34m   at org.junit.jupiter.api.Assertions.assertEquals(Assertions.java:531)\u001b[0m",
      "\u001b[0m\u001b[1m\u001b[34m   at .(#8:1)\u001b[0m",
      "\u001b[0m\u001b[0m\u001b[1m|--> assertEquals(100, Solution.maxArea(heights));\u001b[0m"
     ]
    }
   ],
   "source": [
    "int [] heights = {1,1};\n",
    "assertEquals(100, Solution.maxArea(heights));"
   ]
  },
  {
   "cell_type": "markdown",
   "metadata": {},
   "source": [
    "### Write Sample JUnits\n",
    "\n",
    "While I don't believe writing traditional JUnit Test Suite Classes is very useful for Notebooks, I did think it would be interesting to see what it would take to do it. It might be useful for trying out individual test class syntax and structure, or to showcase ideas in a Notebook."
   ]
  },
  {
   "cell_type": "code",
   "execution_count": 10,
   "metadata": {},
   "outputs": [],
   "source": [
    "import static org.junit.jupiter.api.Assertions.assertEquals;\n",
    "\n",
    "import org.junit.jupiter.api.Test;\n",
    "\n",
    "class JUnitTests {\n",
    "\n",
    "    int [] heights = {1,1};\n",
    "\n",
    "\n",
    "    @Test\n",
    "    void addition() {\n",
    "        assertEquals(1, Solution.maxArea(heights));\n",
    "    }\n",
    "\n",
    "}\n"
   ]
  },
  {
   "cell_type": "markdown",
   "metadata": {},
   "source": [
    "## Write a JUnit Runner for the REPL\n",
    "\n",
    "Since we don't have a maven project to easily run surefire, and I want to keep in the spirit of the REPL aspect of Notebooks, I had to get creative. Additionally, since JUnit 5 deprecated the previous launcher class, this took some research. It isn't perfect, and could probably be improved to use an actual test suite plan instead of an individual test, for now this is an interesting way to run a JUnit in a REPL."
   ]
  },
  {
   "cell_type": "code",
   "execution_count": 11,
   "metadata": {},
   "outputs": [
    {
     "name": "stdout",
     "output_type": "stream",
     "text": [
      "Test Events:\n",
      "\tEvent [type = STARTED, testDescriptor = TestMethodTestDescriptor: [engine:junit-jupiter]/[class:REPL.$JShell$10$JUnitTests]/[method:addition()], timestamp = 2024-04-11T03:49:20.041721937Z, payload = null]\n",
      "\tEvent [type = FINISHED, testDescriptor = TestMethodTestDescriptor: [engine:junit-jupiter]/[class:REPL.$JShell$10$JUnitTests]/[method:addition()], timestamp = 2024-04-11T03:49:20.047657918Z, payload = TestExecutionResult [status = SUCCESSFUL, throwable = null]]\n"
     ]
    },
    {
     "data": {
      "text/plain": [
       "org.junit.platform.testkit.engine.Events@4114888e"
      ]
     },
     "execution_count": 11,
     "metadata": {},
     "output_type": "execute_result"
    }
   ],
   "source": [
    "\n",
    "import org.junit.platform.engine.discovery.DiscoverySelectors;\n",
    "import org.junit.platform.testkit.engine.EngineTestKit;\n",
    "\n",
    "        EngineTestKit.engine(\"junit-jupiter\")\n",
    "                .selectors(DiscoverySelectors.selectClass(JUnitTests.class))\n",
    "                .execute()\n",
    "                .testEvents()\n",
    "                .debug(System.out);"
   ]
  },
  {
   "cell_type": "markdown",
   "metadata": {},
   "source": [
    "### Test via Visual Output\n"
   ]
  },
  {
   "cell_type": "code",
   "execution_count": 12,
   "metadata": {},
   "outputs": [
    {
     "data": {
      "text/plain": [
       "49"
      ]
     },
     "execution_count": 12,
     "metadata": {},
     "output_type": "execute_result"
    }
   ],
   "source": [
    "int [] heights = {1,8,6,2,5,4,8,3,7};\n",
    "\n",
    "Solution.maxArea(heights);"
   ]
  },
  {
   "cell_type": "code",
   "execution_count": 13,
   "metadata": {},
   "outputs": [
    {
     "name": "stdout",
     "output_type": "stream",
     "text": [
      "227270\n"
     ]
    }
   ],
   "source": [
    "int [] heights = {3434,545,2323,3434,454,2323,1,8,6,2,5,4,8,3,7, 343, 444, 232, 22, 1212, 323, 212, 323, 32 , 32, 454, 5555, 7767677, 655, 767, 4545, 2323, 45454, 6556, 787};\n",
    "\n",
    "\n",
    "System.out.println(Solution.maxArea(heights));\n"
   ]
  },
  {
   "cell_type": "markdown",
   "metadata": {},
   "source": [
    "## Verify that the Two Pointer Implementation Works Correctly as Well"
   ]
  },
  {
   "cell_type": "code",
   "execution_count": 14,
   "metadata": {},
   "outputs": [],
   "source": [
    "int [] singleHeights = {1,1};\n",
    "assertEquals(1, Solution.maxArea(singleHeights));\n",
    "\n",
    "int [] sevenBySevenHeights = {1,8,6,2,5,4,8,3,7};\n",
    "assertEquals(49, Solution.maxArea(sevenBySevenHeights));\n",
    "\n",
    "int [] largeHeights = {3434,545,2323,3434,454,2323,1,8,6,2,5,4,8,3,7, 343, 444, 232, 22, 1212, 323, 212, 323, 32 , 32, 454, 5555, 7767677, 655, 767, 4545, 2323, 45454, 6556, 787};\n",
    "assertEquals(227270, Solution.maxArea(largeHeights));"
   ]
  }
 ],
 "metadata": {
  "kernelspec": {
   "display_name": "Java (Rapaio Jupyter)",
   "language": "java",
   "name": "rapaio-jupyter-kernel"
  },
  "language_info": {
   "codemirror_mode": "java",
   "file_extension": ".jshell",
   "mimetype": "text/x-java-source",
   "name": "java",
   "nbconvert_exporter": "script",
   "pygments_lexer": "java",
   "version": "22+36-2370"
  }
 },
 "nbformat": 4,
 "nbformat_minor": 2
}
